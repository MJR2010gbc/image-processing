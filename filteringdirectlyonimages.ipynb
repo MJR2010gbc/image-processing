{
  "nbformat": 4,
  "nbformat_minor": 0,
  "metadata": {
    "colab": {
      "provenance": [],
      "collapsed_sections": [],
      "authorship_tag": "ABX9TyNW6clckiB+LYoK6hLhHtM0"
    },
    "kernelspec": {
      "name": "python3",
      "display_name": "Python 3"
    },
    "language_info": {
      "name": "python"
    }
  },
  "cells": [
    {
      "cell_type": "markdown",
      "source": [
        "Low pass filtering, High pass filtering, and edge detection using CV2 F"
      ],
      "metadata": {
        "id": "IbL9Wu7zmLw7"
      }
    },
    {
      "cell_type": "code",
      "execution_count": 129,
      "metadata": {
        "id": "3aXtigOgmKuE"
      },
      "outputs": [],
      "source": [
        "import cv2\n",
        "import numpy as np\n",
        "import matplotlib.pyplot as plt\n",
        "from PIL import Image as im\n",
        "\n",
        "# img = cv2.imread('image path')\n",
        "# img = cv2.cvtColor(img,cv2.COLOR_BGR2RGB)"
      ]
    },
    {
      "cell_type": "code",
      "source": [
        "class ImgFilt:\n",
        "  #initializes image as object and applys FT\n",
        "  #ideally the FTs are applied as a method seperate from the init function\n",
        "  def __init__(self, imgpath):\n",
        "\n",
        "    self.img = cv2.imread(imgpath) \n",
        "    # dft = cv2.dft(np.float32(self.img), flags=cv2.DFT_COMPLEX_OUTPUT)\n",
        "    # dft_shift = np.fft.fftshift(dft)\n",
        "    # magnitude_spectrum = 20 * np.log((cv2.magnitude(dft_shift[:, :, 0], dft_shift[:, :, 1]))+1)\n",
        "\n",
        "    # # this data save isn't working. not sure why. floating point image?\n",
        "\n",
        "    # data = im.fromarray(magnitude_spectrum)\n",
        "\n",
        "    # # unable to save \"F mode\" image in .jpeg or .png, .tiff apparently acceptable but shows up blank. not sure why\n",
        "    # data.save('magspec.tiff')\n",
        "\n",
        "    # # show image inside of notebook. just change which images you want and their names\n",
        "\n",
        "    # titles = ['img', 'FFT', 'highpassfilter', 'lpf', 'edf', 'nsf']\n",
        "    # images = [self.img, magnitude_spectrum, self.hpf, self.lpf, self. edf, self.nsf]\n",
        "\n",
        "    # # make sure to change both 6 in range aand subplot to however many images you want to show\n",
        "    # for i in range(6): \n",
        "    #   plt.figure(figsize = (30,20))\n",
        "    #   plt.subplot(1, 6, i+1) \n",
        "    #   plt.imshow(images[i])\n",
        "    #   plt.title(titles[i])\n",
        "    #   plt.xticks([])\n",
        "    #   plt.yticks([])\n",
        "    # plt.show()\n",
        "\n",
        "\n",
        "  def hpf(self):\n",
        "    self.highkernel = np.array(([0,-1,0],[-1,5,-1],[0,-1,0]),np.float32) #sharpening\n",
        "    self.output = cv2.filter2D(self.img, -1, self.highkernel)\n",
        "    \n",
        "    data = im.fromarray(self.output)\n",
        "        \n",
        "      # saving the final output \n",
        "      # as a PNG file\n",
        "    data.save('hpf.png')\n",
        "\n",
        "  def lpf(self):\n",
        "    self.lowkernel = np.array(([1,1,1],[1,1,1],[1,1,1]),np.float32)/9 # works for blurring. averages 9 pixels\n",
        "    self.output = cv2.filter2D(self.img, -1, self.lowkernel)\n",
        "    data = im.fromarray(self.output)\n",
        "\n",
        "    data.save('lpf.png')\n",
        "  \n",
        "  def ed(self):\n",
        "    self.edgekernel = np.array(([0,-20,0],[-1,20,-1],[0,-1,0]),np.float32) # edge detection by extreme sharpening\n",
        "    self.output = cv2.filter2D(self.img,-1, self.edgekernel)\n",
        "    data = im.fromarray(self.output)\n",
        "\n",
        "    data.save('edgedetect.png')\n",
        "\n",
        "    "
      ],
      "metadata": {
        "id": "EuKGVdPIER8B"
      },
      "execution_count": 143,
      "outputs": []
    },
    {
      "cell_type": "code",
      "source": [
        "image = ImgFilt('/content/tardigradespace.jpeg')"
      ],
      "metadata": {
        "id": "ad9K7KDdEURH"
      },
      "execution_count": 144,
      "outputs": []
    },
    {
      "cell_type": "code",
      "source": [
        "image.hpf()\n",
        "image.lpf()\n",
        "image.ed()"
      ],
      "metadata": {
        "id": "eBz6iaOVP1TL"
      },
      "execution_count": 145,
      "outputs": []
    },
    {
      "cell_type": "code",
      "source": [],
      "metadata": {
        "id": "dcE5YSqY92nG"
      },
      "execution_count": null,
      "outputs": []
    }
  ]
}